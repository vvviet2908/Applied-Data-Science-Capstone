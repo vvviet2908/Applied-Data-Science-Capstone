{
  "nbformat": 4,
  "nbformat_minor": 0,
  "metadata": {
    "colab": {
      "name": "Week4-1.ipynb",
      "provenance": [],
      "authorship_tag": "ABX9TyPTxhyaPx2maHPtRZcTpwty",
      "include_colab_link": true
    },
    "kernelspec": {
      "name": "python3",
      "display_name": "Python 3"
    }
  },
  "cells": [
    {
      "cell_type": "markdown",
      "metadata": {
        "id": "view-in-github",
        "colab_type": "text"
      },
      "source": [
        "<a href=\"https://colab.research.google.com/github/vvviet2908/Coursera_Capstone/blob/master/Week4_1.ipynb\" target=\"_parent\"><img src=\"https://colab.research.google.com/assets/colab-badge.svg\" alt=\"Open In Colab\"/></a>"
      ]
    },
    {
      "cell_type": "markdown",
      "metadata": {
        "id": "B7uPXDcUaRb8",
        "colab_type": "text"
      },
      "source": [
        "# Business Problem\n",
        "  A Local Coffee Shop want to open their first store in Ho Chi Minh City. The new store would be located in a ideal place with crowded customers, acceptable housing price, and low density of other coffee shop \n",
        "  \n",
        "  By using Data Science, they can give good answers to the following questions:\n",
        "\n",
        "  * Where should we locate the shop?\n",
        "  * Which districts have the lowest housing price?\n",
        "  * How many other coffee shop in each districts?\n",
        "  * Which districts have low number of coffee shop, and big population?\n"
      ]
    },
    {
      "cell_type": "code",
      "metadata": {
        "id": "36lbyXVraQHG",
        "colab_type": "code",
        "colab": {}
      },
      "source": [
        ""
      ],
      "execution_count": null,
      "outputs": []
    }
  ]
}