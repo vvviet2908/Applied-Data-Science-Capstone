{
  "nbformat": 4,
  "nbformat_minor": 0,
  "metadata": {
    "colab": {
      "name": "Canada_Neighborhood_DFcreate.ipynb",
      "provenance": [],
      "authorship_tag": "ABX9TyOv3s3Nft1/E4+crAvUewGB",
      "include_colab_link": true
    },
    "kernelspec": {
      "name": "python3",
      "display_name": "Python 3"
    }
  },
  "cells": [
    {
      "cell_type": "markdown",
      "metadata": {
        "id": "view-in-github",
        "colab_type": "text"
      },
      "source": [
        "<a href=\"https://colab.research.google.com/github/vvviet2908/Coursera_Capstone/blob/master/Canada_Neighborhood_DFcreate.ipynb\" target=\"_parent\"><img src=\"https://colab.research.google.com/assets/colab-badge.svg\" alt=\"Open In Colab\"/></a>"
      ]
    },
    {
      "cell_type": "markdown",
      "metadata": {
        "id": "QeoVQXvFVnhH",
        "colab_type": "text"
      },
      "source": [
        "**Import the library**"
      ]
    },
    {
      "cell_type": "code",
      "metadata": {
        "id": "rJPvTz5wU9ly",
        "colab_type": "code",
        "colab": {}
      },
      "source": [
        "from bs4 import BeautifulSoup\n",
        "import requests\n",
        "import numpy as np\n",
        "import pandas as pd\n",
        "from geopy.geocoders import Nominatim\n",
        "import folium"
      ],
      "execution_count": 1,
      "outputs": []
    },
    {
      "cell_type": "markdown",
      "metadata": {
        "id": "cbXe4XGjXftO",
        "colab_type": "text"
      },
      "source": [
        "**Scrape the Wikipedia page**"
      ]
    },
    {
      "cell_type": "code",
      "metadata": {
        "id": "mc9xVU0rVirK",
        "colab_type": "code",
        "colab": {
          "base_uri": "https://localhost:8080/",
          "height": 90
        },
        "outputId": "7e75c28e-7f68-4844-a3a7-abd30155ff7b"
      },
      "source": [
        "url = 'https://en.wikipedia.org/wiki/List_of_postal_codes_of_Canada:_M'\n",
        "result = requests.get(url)\n",
        "print(url)\n",
        "print(result.status_code)\n",
        "print(result.headers)"
      ],
      "execution_count": 2,
      "outputs": [
        {
          "output_type": "stream",
          "text": [
            "https://en.wikipedia.org/wiki/List_of_postal_codes_of_Canada:_M\n",
            "200\n",
            "{'Date': 'Tue, 14 Jul 2020 19:24:37 GMT', 'Vary': 'Accept-Encoding,Cookie,Authorization', 'Server': 'ATS/8.0.8', 'X-Content-Type-Options': 'nosniff', 'P3p': 'CP=\"See https://en.wikipedia.org/wiki/Special:CentralAutoLogin/P3P for more info.\"', 'Content-Language': 'en', 'X-Request-Id': '9f89cdb3-2d04-4d3c-af74-46790317bd63', 'Last-Modified': 'Sun, 12 Jul 2020 12:04:59 GMT', 'Content-Type': 'text/html; charset=UTF-8', 'Content-Encoding': 'gzip', 'Age': '42906', 'X-Cache': 'cp4027 miss, cp4028 hit/7', 'X-Cache-Status': 'hit-front', 'Server-Timing': 'cache;desc=\"hit-front\"', 'Strict-Transport-Security': 'max-age=106384710; includeSubDomains; preload', 'Set-Cookie': 'WMF-Last-Access=15-Jul-2020;Path=/;HttpOnly;secure;Expires=Sun, 16 Aug 2020 00:00:00 GMT, WMF-Last-Access-Global=15-Jul-2020;Path=/;Domain=.wikipedia.org;HttpOnly;secure;Expires=Sun, 16 Aug 2020 00:00:00 GMT, GeoIP=US:::37.75:-97.82:v4; Path=/; secure; Domain=.wikipedia.org', 'X-Client-IP': '34.83.222.214', 'Cache-Control': 'private, s-maxage=0, max-age=0, must-revalidate', 'Accept-Ranges': 'bytes', 'Content-Length': '13229', 'Connection': 'keep-alive'}\n"
          ],
          "name": "stdout"
        }
      ]
    },
    {
      "cell_type": "code",
      "metadata": {
        "id": "uq8M_v6VV-zN",
        "colab_type": "code",
        "colab": {}
      },
      "source": [
        "soup = BeautifulSoup(result.content, 'html.parser')\n",
        "table = soup.find('table')\n",
        "trs = table.find_all('tr')\n",
        "rows = []\n",
        "for tr in trs:\n",
        "    i = tr.find_all('td')\n",
        "    if i:\n",
        "        rows.append(i)\n",
        "        \n",
        "lst = []\n",
        "for row in rows:\n",
        "    postalcode = row[0].text.rstrip()\n",
        "    borough = row[1].text.rstrip()\n",
        "    neighborhood = row[2].text.rstrip()\n",
        "    if borough != 'Not assigned':\n",
        "        if neighborhood == 'Not assigned':\n",
        "            neighborhood = borough\n",
        "        lst.append([postalcode, borough, neighborhood])"
      ],
      "execution_count": 3,
      "outputs": []
    },
    {
      "cell_type": "markdown",
      "metadata": {
        "id": "bLGpb-KZXyL-",
        "colab_type": "text"
      },
      "source": [
        "**Create the Dataframe**"
      ]
    },
    {
      "cell_type": "code",
      "metadata": {
        "id": "TG0pr51HWGBx",
        "colab_type": "code",
        "colab": {
          "base_uri": "https://localhost:8080/",
          "height": 221
        },
        "outputId": "21daba4d-7e31-4bc9-b30d-3b7634214fad"
      },
      "source": [
        "cols = ['PostalCode', 'Borough', 'Neighborhood']\n",
        "df = pd.DataFrame(lst, columns=cols)\n",
        "print(df.shape)\n",
        "df.head()"
      ],
      "execution_count": 4,
      "outputs": [
        {
          "output_type": "stream",
          "text": [
            "(103, 3)\n"
          ],
          "name": "stdout"
        },
        {
          "output_type": "execute_result",
          "data": {
            "text/html": [
              "<div>\n",
              "<style scoped>\n",
              "    .dataframe tbody tr th:only-of-type {\n",
              "        vertical-align: middle;\n",
              "    }\n",
              "\n",
              "    .dataframe tbody tr th {\n",
              "        vertical-align: top;\n",
              "    }\n",
              "\n",
              "    .dataframe thead th {\n",
              "        text-align: right;\n",
              "    }\n",
              "</style>\n",
              "<table border=\"1\" class=\"dataframe\">\n",
              "  <thead>\n",
              "    <tr style=\"text-align: right;\">\n",
              "      <th></th>\n",
              "      <th>PostalCode</th>\n",
              "      <th>Borough</th>\n",
              "      <th>Neighborhood</th>\n",
              "    </tr>\n",
              "  </thead>\n",
              "  <tbody>\n",
              "    <tr>\n",
              "      <th>0</th>\n",
              "      <td>M3A</td>\n",
              "      <td>North York</td>\n",
              "      <td>Parkwoods</td>\n",
              "    </tr>\n",
              "    <tr>\n",
              "      <th>1</th>\n",
              "      <td>M4A</td>\n",
              "      <td>North York</td>\n",
              "      <td>Victoria Village</td>\n",
              "    </tr>\n",
              "    <tr>\n",
              "      <th>2</th>\n",
              "      <td>M5A</td>\n",
              "      <td>Downtown Toronto</td>\n",
              "      <td>Regent Park, Harbourfront</td>\n",
              "    </tr>\n",
              "    <tr>\n",
              "      <th>3</th>\n",
              "      <td>M6A</td>\n",
              "      <td>North York</td>\n",
              "      <td>Lawrence Manor, Lawrence Heights</td>\n",
              "    </tr>\n",
              "    <tr>\n",
              "      <th>4</th>\n",
              "      <td>M7A</td>\n",
              "      <td>Downtown Toronto</td>\n",
              "      <td>Queen's Park, Ontario Provincial Government</td>\n",
              "    </tr>\n",
              "  </tbody>\n",
              "</table>\n",
              "</div>"
            ],
            "text/plain": [
              "  PostalCode           Borough                                 Neighborhood\n",
              "0        M3A        North York                                    Parkwoods\n",
              "1        M4A        North York                             Victoria Village\n",
              "2        M5A  Downtown Toronto                    Regent Park, Harbourfront\n",
              "3        M6A        North York             Lawrence Manor, Lawrence Heights\n",
              "4        M7A  Downtown Toronto  Queen's Park, Ontario Provincial Government"
            ]
          },
          "metadata": {
            "tags": []
          },
          "execution_count": 4
        }
      ]
    },
    {
      "cell_type": "code",
      "metadata": {
        "id": "Fi6WnVYyWM4B",
        "colab_type": "code",
        "colab": {}
      },
      "source": [
        ""
      ],
      "execution_count": null,
      "outputs": []
    }
  ]
}