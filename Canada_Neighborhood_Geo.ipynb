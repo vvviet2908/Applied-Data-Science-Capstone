{
  "nbformat": 4,
  "nbformat_minor": 0,
  "metadata": {
    "colab": {
      "name": "Canada_Neighborhood_Geo.ipynb",
      "provenance": [],
      "authorship_tag": "ABX9TyP3K2uo7JTagXlZ9m54BhTX",
      "include_colab_link": true
    },
    "kernelspec": {
      "name": "python3",
      "display_name": "Python 3"
    }
  },
  "cells": [
    {
      "cell_type": "markdown",
      "metadata": {
        "id": "view-in-github",
        "colab_type": "text"
      },
      "source": [
        "<a href=\"https://colab.research.google.com/github/vvviet2908/Coursera_Capstone/blob/master/Canada_Neighborhood_Geo.ipynb\" target=\"_parent\"><img src=\"https://colab.research.google.com/assets/colab-badge.svg\" alt=\"Open In Colab\"/></a>"
      ]
    },
    {
      "cell_type": "markdown",
      "metadata": {
        "id": "QeoVQXvFVnhH",
        "colab_type": "text"
      },
      "source": [
        "**Import the library**"
      ]
    },
    {
      "cell_type": "code",
      "metadata": {
        "id": "rJPvTz5wU9ly",
        "colab_type": "code",
        "colab": {}
      },
      "source": [
        "from bs4 import BeautifulSoup\n",
        "import requests\n",
        "import numpy as np\n",
        "import pandas as pd\n",
        "from geopy.geocoders import Nominatim\n",
        "import folium"
      ],
      "execution_count": 1,
      "outputs": []
    },
    {
      "cell_type": "markdown",
      "metadata": {
        "id": "cbXe4XGjXftO",
        "colab_type": "text"
      },
      "source": [
        "**Scrape the Wikipedia page**"
      ]
    },
    {
      "cell_type": "code",
      "metadata": {
        "id": "mc9xVU0rVirK",
        "colab_type": "code",
        "colab": {
          "base_uri": "https://localhost:8080/",
          "height": 90
        },
        "outputId": "b45ba855-59db-4a90-eb9d-177f546d4225"
      },
      "source": [
        "url = 'https://en.wikipedia.org/wiki/List_of_postal_codes_of_Canada:_M'\n",
        "result = requests.get(url)\n",
        "print(url)\n",
        "print(result.status_code)\n",
        "print(result.headers)"
      ],
      "execution_count": 2,
      "outputs": [
        {
          "output_type": "stream",
          "text": [
            "https://en.wikipedia.org/wiki/List_of_postal_codes_of_Canada:_M\n",
            "200\n",
            "{'Date': 'Tue, 14 Jul 2020 18:40:41 GMT', 'Vary': 'Accept-Encoding,Cookie,Authorization', 'Server': 'ATS/8.0.8', 'X-Content-Type-Options': 'nosniff', 'P3p': 'CP=\"See https://en.wikipedia.org/wiki/Special:CentralAutoLogin/P3P for more info.\"', 'Content-Language': 'en', 'X-Request-Id': '2fca9ebe-159e-4905-80dd-d8dc90547ba2', 'Last-Modified': 'Sun, 12 Jul 2020 12:04:59 GMT', 'Content-Type': 'text/html; charset=UTF-8', 'Content-Encoding': 'gzip', 'Age': '48188', 'X-Cache': 'cp2041 miss, cp2037 hit/7', 'X-Cache-Status': 'hit-front', 'Server-Timing': 'cache;desc=\"hit-front\"', 'Strict-Transport-Security': 'max-age=106384710; includeSubDomains; preload', 'Set-Cookie': 'WMF-Last-Access=15-Jul-2020;Path=/;HttpOnly;secure;Expires=Sun, 16 Aug 2020 00:00:00 GMT, WMF-Last-Access-Global=15-Jul-2020;Path=/;Domain=.wikipedia.org;HttpOnly;secure;Expires=Sun, 16 Aug 2020 00:00:00 GMT, GeoIP=US:VA::38.66:-77.25:v4; Path=/; secure; Domain=.wikipedia.org', 'X-Client-IP': '35.184.100.168', 'Cache-Control': 'private, s-maxage=0, max-age=0, must-revalidate', 'Accept-Ranges': 'bytes', 'Content-Length': '13229', 'Connection': 'keep-alive'}\n"
          ],
          "name": "stdout"
        }
      ]
    },
    {
      "cell_type": "code",
      "metadata": {
        "id": "uq8M_v6VV-zN",
        "colab_type": "code",
        "colab": {}
      },
      "source": [
        "soup = BeautifulSoup(result.content, 'html.parser')\n",
        "table = soup.find('table')\n",
        "trs = table.find_all('tr')\n",
        "rows = []\n",
        "for tr in trs:\n",
        "    i = tr.find_all('td')\n",
        "    if i:\n",
        "        rows.append(i)\n",
        "        \n",
        "lst = []\n",
        "for row in rows:\n",
        "    postalcode = row[0].text.rstrip()\n",
        "    borough = row[1].text.rstrip()\n",
        "    neighborhood = row[2].text.rstrip()\n",
        "    if borough != 'Not assigned':\n",
        "        if neighborhood == 'Not assigned':\n",
        "            neighborhood = borough\n",
        "        lst.append([postalcode, borough, neighborhood])"
      ],
      "execution_count": 3,
      "outputs": []
    },
    {
      "cell_type": "markdown",
      "metadata": {
        "id": "bLGpb-KZXyL-",
        "colab_type": "text"
      },
      "source": [
        "**Create the Dataframe**"
      ]
    },
    {
      "cell_type": "code",
      "metadata": {
        "id": "TG0pr51HWGBx",
        "colab_type": "code",
        "colab": {
          "base_uri": "https://localhost:8080/",
          "height": 435
        },
        "outputId": "a0b3af63-ce42-48fc-c9d1-816c7888d200"
      },
      "source": [
        "cols = ['PostalCode', 'Borough', 'Neighborhood']\n",
        "df = pd.DataFrame(lst, columns=cols)\n",
        "print(df.shape)\n",
        "df"
      ],
      "execution_count": 4,
      "outputs": [
        {
          "output_type": "stream",
          "text": [
            "(103, 3)\n"
          ],
          "name": "stdout"
        },
        {
          "output_type": "execute_result",
          "data": {
            "text/html": [
              "<div>\n",
              "<style scoped>\n",
              "    .dataframe tbody tr th:only-of-type {\n",
              "        vertical-align: middle;\n",
              "    }\n",
              "\n",
              "    .dataframe tbody tr th {\n",
              "        vertical-align: top;\n",
              "    }\n",
              "\n",
              "    .dataframe thead th {\n",
              "        text-align: right;\n",
              "    }\n",
              "</style>\n",
              "<table border=\"1\" class=\"dataframe\">\n",
              "  <thead>\n",
              "    <tr style=\"text-align: right;\">\n",
              "      <th></th>\n",
              "      <th>PostalCode</th>\n",
              "      <th>Borough</th>\n",
              "      <th>Neighborhood</th>\n",
              "    </tr>\n",
              "  </thead>\n",
              "  <tbody>\n",
              "    <tr>\n",
              "      <th>0</th>\n",
              "      <td>M3A</td>\n",
              "      <td>North York</td>\n",
              "      <td>Parkwoods</td>\n",
              "    </tr>\n",
              "    <tr>\n",
              "      <th>1</th>\n",
              "      <td>M4A</td>\n",
              "      <td>North York</td>\n",
              "      <td>Victoria Village</td>\n",
              "    </tr>\n",
              "    <tr>\n",
              "      <th>2</th>\n",
              "      <td>M5A</td>\n",
              "      <td>Downtown Toronto</td>\n",
              "      <td>Regent Park, Harbourfront</td>\n",
              "    </tr>\n",
              "    <tr>\n",
              "      <th>3</th>\n",
              "      <td>M6A</td>\n",
              "      <td>North York</td>\n",
              "      <td>Lawrence Manor, Lawrence Heights</td>\n",
              "    </tr>\n",
              "    <tr>\n",
              "      <th>4</th>\n",
              "      <td>M7A</td>\n",
              "      <td>Downtown Toronto</td>\n",
              "      <td>Queen's Park, Ontario Provincial Government</td>\n",
              "    </tr>\n",
              "    <tr>\n",
              "      <th>...</th>\n",
              "      <td>...</td>\n",
              "      <td>...</td>\n",
              "      <td>...</td>\n",
              "    </tr>\n",
              "    <tr>\n",
              "      <th>98</th>\n",
              "      <td>M8X</td>\n",
              "      <td>Etobicoke</td>\n",
              "      <td>The Kingsway, Montgomery Road, Old Mill North</td>\n",
              "    </tr>\n",
              "    <tr>\n",
              "      <th>99</th>\n",
              "      <td>M4Y</td>\n",
              "      <td>Downtown Toronto</td>\n",
              "      <td>Church and Wellesley</td>\n",
              "    </tr>\n",
              "    <tr>\n",
              "      <th>100</th>\n",
              "      <td>M7Y</td>\n",
              "      <td>East Toronto</td>\n",
              "      <td>Business reply mail Processing Centre, South C...</td>\n",
              "    </tr>\n",
              "    <tr>\n",
              "      <th>101</th>\n",
              "      <td>M8Y</td>\n",
              "      <td>Etobicoke</td>\n",
              "      <td>Old Mill South, King's Mill Park, Sunnylea, Hu...</td>\n",
              "    </tr>\n",
              "    <tr>\n",
              "      <th>102</th>\n",
              "      <td>M8Z</td>\n",
              "      <td>Etobicoke</td>\n",
              "      <td>Mimico NW, The Queensway West, South of Bloor,...</td>\n",
              "    </tr>\n",
              "  </tbody>\n",
              "</table>\n",
              "<p>103 rows × 3 columns</p>\n",
              "</div>"
            ],
            "text/plain": [
              "    PostalCode  ...                                       Neighborhood\n",
              "0          M3A  ...                                          Parkwoods\n",
              "1          M4A  ...                                   Victoria Village\n",
              "2          M5A  ...                          Regent Park, Harbourfront\n",
              "3          M6A  ...                   Lawrence Manor, Lawrence Heights\n",
              "4          M7A  ...        Queen's Park, Ontario Provincial Government\n",
              "..         ...  ...                                                ...\n",
              "98         M8X  ...      The Kingsway, Montgomery Road, Old Mill North\n",
              "99         M4Y  ...                               Church and Wellesley\n",
              "100        M7Y  ...  Business reply mail Processing Centre, South C...\n",
              "101        M8Y  ...  Old Mill South, King's Mill Park, Sunnylea, Hu...\n",
              "102        M8Z  ...  Mimico NW, The Queensway West, South of Bloor,...\n",
              "\n",
              "[103 rows x 3 columns]"
            ]
          },
          "metadata": {
            "tags": []
          },
          "execution_count": 4
        }
      ]
    },
    {
      "cell_type": "markdown",
      "metadata": {
        "id": "PB3iifFzb2oE",
        "colab_type": "text"
      },
      "source": [
        "**Get the Geo data**"
      ]
    },
    {
      "cell_type": "markdown",
      "metadata": {
        "id": "ZrtgNq4mcCQB",
        "colab_type": "text"
      },
      "source": [
        ""
      ]
    },
    {
      "cell_type": "code",
      "metadata": {
        "id": "Fi6WnVYyWM4B",
        "colab_type": "code",
        "colab": {
          "base_uri": "https://localhost:8080/",
          "height": 635
        },
        "outputId": "87c1f3eb-232d-4f48-b2eb-7b6caa87eda9"
      },
      "source": [
        "!wget -O GeoCord.csv http://cocl.us/Geospatial_data/"
      ],
      "execution_count": 5,
      "outputs": [
        {
          "output_type": "stream",
          "text": [
            "--2020-07-15 08:03:51--  http://cocl.us/Geospatial_data/\n",
            "Resolving cocl.us (cocl.us)... 158.85.108.83, 158.85.108.86, 169.48.113.194\n",
            "Connecting to cocl.us (cocl.us)|158.85.108.83|:80... connected.\n",
            "HTTP request sent, awaiting response... 301 Moved Permanently\n",
            "Location: https://cocl.us/Geospatial_data/ [following]\n",
            "--2020-07-15 08:03:51--  https://cocl.us/Geospatial_data/\n",
            "Connecting to cocl.us (cocl.us)|158.85.108.83|:443... connected.\n",
            "HTTP request sent, awaiting response... 301 Moved Permanently\n",
            "Location: https://ibm.box.com/shared/static/9afzr83pps4pwf2smjjcf1y5mvgb18rr.csv [following]\n",
            "--2020-07-15 08:03:54--  https://ibm.box.com/shared/static/9afzr83pps4pwf2smjjcf1y5mvgb18rr.csv\n",
            "Resolving ibm.box.com (ibm.box.com)... 107.152.29.197\n",
            "Connecting to ibm.box.com (ibm.box.com)|107.152.29.197|:443... connected.\n",
            "HTTP request sent, awaiting response... 301 Moved Permanently\n",
            "Location: /public/static/9afzr83pps4pwf2smjjcf1y5mvgb18rr.csv [following]\n",
            "--2020-07-15 08:03:54--  https://ibm.box.com/public/static/9afzr83pps4pwf2smjjcf1y5mvgb18rr.csv\n",
            "Reusing existing connection to ibm.box.com:443.\n",
            "HTTP request sent, awaiting response... 301 Moved Permanently\n",
            "Location: https://ibm.ent.box.com/public/static/9afzr83pps4pwf2smjjcf1y5mvgb18rr.csv [following]\n",
            "--2020-07-15 08:03:55--  https://ibm.ent.box.com/public/static/9afzr83pps4pwf2smjjcf1y5mvgb18rr.csv\n",
            "Resolving ibm.ent.box.com (ibm.ent.box.com)... 107.152.29.201\n",
            "Connecting to ibm.ent.box.com (ibm.ent.box.com)|107.152.29.201|:443... connected.\n",
            "HTTP request sent, awaiting response... 302 Found\n",
            "Location: https://public.boxcloud.com/d/1/b1!owFCbvO5m7u-Ih1k4Y0Eyfr2sGnqHOMnybPfbzA2DzDdIS-XMDTvNjGhc0J68GirothGpQ0yZF47Ak0j_MlmAf0JId7JYZxdsn-Fyo5N3LupcNamtlFDCCIByOAPiOe9eIe5gXAzPEFq8369Nw89BssY7QaozmSI1dRG7GX75iDs8i2z5M-LGBUgT62WxOGVodEE8jo-aj3HAPXnVYBaDtW72cECy-Lwx4T54Zc2AMlzmrzC97cfheCYPQR4jWmJTmUKuRcJUqFLUGsVnTTiyfjmJO3E5TP7QMnsQFFmj7pnjbuOxanIHypevJxozIWdrY0Rn0cIpjenFTuVW8jEUPVW07pHEDE6Zbtu1W3HE2DAZ1EWUlgHIyT7vF2IzOcKQw2PNkJLmtG0u6y5ama2t13GrqJI59sGy-cG0GLOFQsGivcIHZtqqllaswF7EO39n__y7wmhPe0767IG9rePrxyYNw47PkJRSohUPUER_Bqy5L1WZPXsCX1qNRmFjJYuISSYvPMF4Vq0RbXmljTahls45RwUIfoYd4CDYmPY7b4IH27KM8FJ4liXLC1dGzxz2cQugCC4vLtdfe2D5Jkn7MGR1BQrCB4kC3-P9fVx6S5EdHWpNWdmRlsieS_lp4QnOqtfeRaPIab4FLUUeyLdQemw9z7L1pvspdhvTS4EwjRCvZSKGCEdcuXSdCILSd0cyMHQeX_rvxwAszYGjHqU3P0jJSs7iQbwW5SqyRgVnmQc6_FD4xScr-Em-ChqAffBwLWcdyVX4nFpZ5-oAi3ldl_8ChPy_QhkNGC5T55y2zqgRpWgb6-Dct6YX6Npvxn_pKW3fpRbJ6o-p5u03LcYKZHL6ik1Zb0nEXle8UCXrpZPGbzbz57EgC9L_ek58zrY-zrdukUb0l2YLgMLmHBrjgoatA9lb-Lc7EYLXZ5eB0uDed5gSpXlpg2H44nGZYP0m7tl0RqrJElKEwLy9U6X3bpIs_Y-azUUY2DgAq2H2BdKVJNof_fLuLHi1qdTEMcIC4YEQMmiiPEaPKd5ND7tqqwkjfaGlXgNjL3ZkM7KHRW0pvgo9ib2tO1CCG_YFMitQvXj-1PE1fagb1tRY6Nr9xSttBM_3qkbZ-n3VvXb62IWBpji9iTYIxbzTQRrvwqrptVprd687qSl8iQ-aCohrlXro00pLB98zV9xZpTLYAdPOxXGEdOHnAxhsftDZVw8jEX8FEOFqxu3jqIeGiGPiXVveobaUhM5gCysC_Yz1X0k7ms-A81LhQdn392wJAq7HlJOyDav7lcmBdbv6VQIMjRuXiXMpQmgmvSEMc5Qaex36A9JmqsAc04Govl4olx9j0CW7t8wUFKA7sC2ZGVEFsGsLPZVlhNENjLO9alzHuzoVQ6ADTM2ayIjlCj1yb1IbWnxP7nGF2-pdrUmjqSLi7odNnnpwGXvr3-F7r2fRW_BEg../download [following]\n",
            "--2020-07-15 08:03:55--  https://public.boxcloud.com/d/1/b1!owFCbvO5m7u-Ih1k4Y0Eyfr2sGnqHOMnybPfbzA2DzDdIS-XMDTvNjGhc0J68GirothGpQ0yZF47Ak0j_MlmAf0JId7JYZxdsn-Fyo5N3LupcNamtlFDCCIByOAPiOe9eIe5gXAzPEFq8369Nw89BssY7QaozmSI1dRG7GX75iDs8i2z5M-LGBUgT62WxOGVodEE8jo-aj3HAPXnVYBaDtW72cECy-Lwx4T54Zc2AMlzmrzC97cfheCYPQR4jWmJTmUKuRcJUqFLUGsVnTTiyfjmJO3E5TP7QMnsQFFmj7pnjbuOxanIHypevJxozIWdrY0Rn0cIpjenFTuVW8jEUPVW07pHEDE6Zbtu1W3HE2DAZ1EWUlgHIyT7vF2IzOcKQw2PNkJLmtG0u6y5ama2t13GrqJI59sGy-cG0GLOFQsGivcIHZtqqllaswF7EO39n__y7wmhPe0767IG9rePrxyYNw47PkJRSohUPUER_Bqy5L1WZPXsCX1qNRmFjJYuISSYvPMF4Vq0RbXmljTahls45RwUIfoYd4CDYmPY7b4IH27KM8FJ4liXLC1dGzxz2cQugCC4vLtdfe2D5Jkn7MGR1BQrCB4kC3-P9fVx6S5EdHWpNWdmRlsieS_lp4QnOqtfeRaPIab4FLUUeyLdQemw9z7L1pvspdhvTS4EwjRCvZSKGCEdcuXSdCILSd0cyMHQeX_rvxwAszYGjHqU3P0jJSs7iQbwW5SqyRgVnmQc6_FD4xScr-Em-ChqAffBwLWcdyVX4nFpZ5-oAi3ldl_8ChPy_QhkNGC5T55y2zqgRpWgb6-Dct6YX6Npvxn_pKW3fpRbJ6o-p5u03LcYKZHL6ik1Zb0nEXle8UCXrpZPGbzbz57EgC9L_ek58zrY-zrdukUb0l2YLgMLmHBrjgoatA9lb-Lc7EYLXZ5eB0uDed5gSpXlpg2H44nGZYP0m7tl0RqrJElKEwLy9U6X3bpIs_Y-azUUY2DgAq2H2BdKVJNof_fLuLHi1qdTEMcIC4YEQMmiiPEaPKd5ND7tqqwkjfaGlXgNjL3ZkM7KHRW0pvgo9ib2tO1CCG_YFMitQvXj-1PE1fagb1tRY6Nr9xSttBM_3qkbZ-n3VvXb62IWBpji9iTYIxbzTQRrvwqrptVprd687qSl8iQ-aCohrlXro00pLB98zV9xZpTLYAdPOxXGEdOHnAxhsftDZVw8jEX8FEOFqxu3jqIeGiGPiXVveobaUhM5gCysC_Yz1X0k7ms-A81LhQdn392wJAq7HlJOyDav7lcmBdbv6VQIMjRuXiXMpQmgmvSEMc5Qaex36A9JmqsAc04Govl4olx9j0CW7t8wUFKA7sC2ZGVEFsGsLPZVlhNENjLO9alzHuzoVQ6ADTM2ayIjlCj1yb1IbWnxP7nGF2-pdrUmjqSLi7odNnnpwGXvr3-F7r2fRW_BEg../download\n",
            "Resolving public.boxcloud.com (public.boxcloud.com)... 107.152.29.200\n",
            "Connecting to public.boxcloud.com (public.boxcloud.com)|107.152.29.200|:443... connected.\n",
            "HTTP request sent, awaiting response... 200 OK\n",
            "Length: 2891 (2.8K) [text/csv]\n",
            "Saving to: ‘GeoCord.csv’\n",
            "\n",
            "GeoCord.csv         100%[===================>]   2.82K  --.-KB/s    in 0s      \n",
            "\n",
            "2020-07-15 08:03:55 (433 MB/s) - ‘GeoCord.csv’ saved [2891/2891]\n",
            "\n"
          ],
          "name": "stdout"
        }
      ]
    },
    {
      "cell_type": "code",
      "metadata": {
        "id": "mSlGdor-dONy",
        "colab_type": "code",
        "colab": {
          "base_uri": "https://localhost:8080/",
          "height": 203
        },
        "outputId": "c8bee7b7-e615-4d71-d518-f95b0c253cbe"
      },
      "source": [
        "df_cord = pd.read_csv('GeoCord.csv') # Read the csv data\n",
        "df_cord.head()"
      ],
      "execution_count": 6,
      "outputs": [
        {
          "output_type": "execute_result",
          "data": {
            "text/html": [
              "<div>\n",
              "<style scoped>\n",
              "    .dataframe tbody tr th:only-of-type {\n",
              "        vertical-align: middle;\n",
              "    }\n",
              "\n",
              "    .dataframe tbody tr th {\n",
              "        vertical-align: top;\n",
              "    }\n",
              "\n",
              "    .dataframe thead th {\n",
              "        text-align: right;\n",
              "    }\n",
              "</style>\n",
              "<table border=\"1\" class=\"dataframe\">\n",
              "  <thead>\n",
              "    <tr style=\"text-align: right;\">\n",
              "      <th></th>\n",
              "      <th>Postal Code</th>\n",
              "      <th>Latitude</th>\n",
              "      <th>Longitude</th>\n",
              "    </tr>\n",
              "  </thead>\n",
              "  <tbody>\n",
              "    <tr>\n",
              "      <th>0</th>\n",
              "      <td>M1B</td>\n",
              "      <td>43.806686</td>\n",
              "      <td>-79.194353</td>\n",
              "    </tr>\n",
              "    <tr>\n",
              "      <th>1</th>\n",
              "      <td>M1C</td>\n",
              "      <td>43.784535</td>\n",
              "      <td>-79.160497</td>\n",
              "    </tr>\n",
              "    <tr>\n",
              "      <th>2</th>\n",
              "      <td>M1E</td>\n",
              "      <td>43.763573</td>\n",
              "      <td>-79.188711</td>\n",
              "    </tr>\n",
              "    <tr>\n",
              "      <th>3</th>\n",
              "      <td>M1G</td>\n",
              "      <td>43.770992</td>\n",
              "      <td>-79.216917</td>\n",
              "    </tr>\n",
              "    <tr>\n",
              "      <th>4</th>\n",
              "      <td>M1H</td>\n",
              "      <td>43.773136</td>\n",
              "      <td>-79.239476</td>\n",
              "    </tr>\n",
              "  </tbody>\n",
              "</table>\n",
              "</div>"
            ],
            "text/plain": [
              "  Postal Code   Latitude  Longitude\n",
              "0         M1B  43.806686 -79.194353\n",
              "1         M1C  43.784535 -79.160497\n",
              "2         M1E  43.763573 -79.188711\n",
              "3         M1G  43.770992 -79.216917\n",
              "4         M1H  43.773136 -79.239476"
            ]
          },
          "metadata": {
            "tags": []
          },
          "execution_count": 6
        }
      ]
    },
    {
      "cell_type": "code",
      "metadata": {
        "id": "YbbC9bLXdZuB",
        "colab_type": "code",
        "colab": {}
      },
      "source": [
        "df_cord.columns = ['PostalCode', 'Latitude', 'Longitude']"
      ],
      "execution_count": 7,
      "outputs": []
    },
    {
      "cell_type": "code",
      "metadata": {
        "id": "lwS-BQ2Nd1u_",
        "colab_type": "code",
        "colab": {}
      },
      "source": [
        "#Merging dataframes\n",
        "merged_data = pd.merge(df, df_cord, on='PostalCode')"
      ],
      "execution_count": 8,
      "outputs": []
    },
    {
      "cell_type": "code",
      "metadata": {
        "id": "k5HAM8CIfweF",
        "colab_type": "code",
        "colab": {
          "base_uri": "https://localhost:8080/",
          "height": 203
        },
        "outputId": "28882145-1112-4f15-d97d-c59eef4cd697"
      },
      "source": [
        "merged_data.head()"
      ],
      "execution_count": 9,
      "outputs": [
        {
          "output_type": "execute_result",
          "data": {
            "text/html": [
              "<div>\n",
              "<style scoped>\n",
              "    .dataframe tbody tr th:only-of-type {\n",
              "        vertical-align: middle;\n",
              "    }\n",
              "\n",
              "    .dataframe tbody tr th {\n",
              "        vertical-align: top;\n",
              "    }\n",
              "\n",
              "    .dataframe thead th {\n",
              "        text-align: right;\n",
              "    }\n",
              "</style>\n",
              "<table border=\"1\" class=\"dataframe\">\n",
              "  <thead>\n",
              "    <tr style=\"text-align: right;\">\n",
              "      <th></th>\n",
              "      <th>PostalCode</th>\n",
              "      <th>Borough</th>\n",
              "      <th>Neighborhood</th>\n",
              "      <th>Latitude</th>\n",
              "      <th>Longitude</th>\n",
              "    </tr>\n",
              "  </thead>\n",
              "  <tbody>\n",
              "    <tr>\n",
              "      <th>0</th>\n",
              "      <td>M3A</td>\n",
              "      <td>North York</td>\n",
              "      <td>Parkwoods</td>\n",
              "      <td>43.753259</td>\n",
              "      <td>-79.329656</td>\n",
              "    </tr>\n",
              "    <tr>\n",
              "      <th>1</th>\n",
              "      <td>M4A</td>\n",
              "      <td>North York</td>\n",
              "      <td>Victoria Village</td>\n",
              "      <td>43.725882</td>\n",
              "      <td>-79.315572</td>\n",
              "    </tr>\n",
              "    <tr>\n",
              "      <th>2</th>\n",
              "      <td>M5A</td>\n",
              "      <td>Downtown Toronto</td>\n",
              "      <td>Regent Park, Harbourfront</td>\n",
              "      <td>43.654260</td>\n",
              "      <td>-79.360636</td>\n",
              "    </tr>\n",
              "    <tr>\n",
              "      <th>3</th>\n",
              "      <td>M6A</td>\n",
              "      <td>North York</td>\n",
              "      <td>Lawrence Manor, Lawrence Heights</td>\n",
              "      <td>43.718518</td>\n",
              "      <td>-79.464763</td>\n",
              "    </tr>\n",
              "    <tr>\n",
              "      <th>4</th>\n",
              "      <td>M7A</td>\n",
              "      <td>Downtown Toronto</td>\n",
              "      <td>Queen's Park, Ontario Provincial Government</td>\n",
              "      <td>43.662301</td>\n",
              "      <td>-79.389494</td>\n",
              "    </tr>\n",
              "  </tbody>\n",
              "</table>\n",
              "</div>"
            ],
            "text/plain": [
              "  PostalCode           Borough  ...   Latitude  Longitude\n",
              "0        M3A        North York  ...  43.753259 -79.329656\n",
              "1        M4A        North York  ...  43.725882 -79.315572\n",
              "2        M5A  Downtown Toronto  ...  43.654260 -79.360636\n",
              "3        M6A        North York  ...  43.718518 -79.464763\n",
              "4        M7A  Downtown Toronto  ...  43.662301 -79.389494\n",
              "\n",
              "[5 rows x 5 columns]"
            ]
          },
          "metadata": {
            "tags": []
          },
          "execution_count": 9
        }
      ]
    },
    {
      "cell_type": "code",
      "metadata": {
        "id": "-1qPj2GHf-14",
        "colab_type": "code",
        "colab": {}
      },
      "source": [
        ""
      ],
      "execution_count": 9,
      "outputs": []
    }
  ]
}